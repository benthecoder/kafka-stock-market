{
 "cells": [
  {
   "cell_type": "code",
   "execution_count": null,
   "metadata": {},
   "outputs": [],
   "source": [
    "import pandas as pd\n",
    "from kafka import KafkaProducer, KafkaConsumer\n",
    "import json\n",
    "from json import dumps,loads\n",
    "from s3fs import S3FileSystem\n",
    "from time import sleep\n"
   ]
  },
  {
   "attachments": {},
   "cell_type": "markdown",
   "metadata": {},
   "source": [
    "make sure your kafka zookeper, server, producer and consumer is running in the background"
   ]
  },
  {
   "cell_type": "code",
   "execution_count": null,
   "metadata": {},
   "outputs": [],
   "source": [
    "raw_data = \"https://raw.githubusercontent.com/darshilparmar/stock-market-kafka-data-engineering-project/main/indexProcessed.csv\"\n",
    "\n",
    "df = pd.read_csv(raw_data)\n",
    "df.head()"
   ]
  },
  {
   "cell_type": "code",
   "execution_count": null,
   "metadata": {},
   "outputs": [],
   "source": [
    "producer = KafkaProducer(\n",
    "    bootstrap_servers=[\"<MY_PUBLIC_IP>:9092\"], #add your IP here\n",
    "    value_serializer=lambda x: dumps(x).encode(\"utf-8\"),\n",
    ")"
   ]
  },
  {
   "cell_type": "code",
   "execution_count": null,
   "metadata": {},
   "outputs": [],
   "source": [
    "consumer = KafkaConsumer(\n",
    "    'demo_test',\n",
    "     bootstrap_servers=['<MY_PUBLIC_IP>:9092'], #add your IP here\n",
    "    value_deserializer=lambda x: loads(x.decode('utf-8')))"
   ]
  },
  {
   "cell_type": "code",
   "execution_count": null,
   "metadata": {},
   "outputs": [],
   "source": [
    "# simulate stremaing\n",
    "i = 0\n",
    "while True:\n",
    "    # randomly sample and convert to json\n",
    "    dict_stock = df.sample(1).to_dict(orient=\"records\")[0]\n",
    "    producer.send(\"demo_test\", value=dict_stock)\n",
    "    print(f\"{i} rows streamed\")\n",
    "    sleep(1)\n",
    "    i += 1"
   ]
  },
  {
   "cell_type": "code",
   "execution_count": null,
   "metadata": {},
   "outputs": [],
   "source": [
    "s3 = S3FileSystem()\n",
    "s3_path = \"s3://<S3_BUCKET_NAME>\"\n",
    "\n",
    "for count, i in enumerate(consumer):\n",
    "\n",
    "    with s3.open(f\"{s3_path}/stock_market_{count}.json\", 'w') as file:\n",
    "        print(f\"Published {count} rows to S3\")\n",
    "        json.dump(i.value, file)    "
   ]
  }
 ],
 "metadata": {
  "kernelspec": {
   "display_name": "Python 3",
   "language": "python",
   "name": "python3"
  },
  "language_info": {
   "name": "python",
   "version": "3.10.0"
  },
  "vscode": {
   "interpreter": {
    "hash": "50587d438b9934cf2712ee500622f7def3550698a6c70c07f7d3c00dd27cb653"
   }
  }
 },
 "nbformat": 4,
 "nbformat_minor": 2
}
